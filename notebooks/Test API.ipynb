{
 "cells": [
  {
   "cell_type": "markdown",
   "id": "9a67dccd-bec1-47af-8f36-05a3f3d5cd09",
   "metadata": {},
   "source": [
    "# Demo Notebook\n",
    "\n",
    "This notebook shows the outputs of the API calls that have been built."
   ]
  },
  {
   "cell_type": "code",
   "execution_count": 1,
   "id": "41dc77c6-a2a9-41c1-b56f-6ebf7b9e3fa7",
   "metadata": {},
   "outputs": [],
   "source": [
    "import requests"
   ]
  },
  {
   "cell_type": "code",
   "execution_count": 2,
   "id": "752f36f5-76fa-4dfe-afb7-c62bc589915e",
   "metadata": {},
   "outputs": [],
   "source": [
    "# Because the notebook container is connected to the same network as the API (see docker-compose.yml), \n",
    "# we can ping the api by its service name directly\n",
    "HOST_ADDRESS = \"http://api:80/\""
   ]
  },
  {
   "cell_type": "markdown",
   "id": "9e30e37a-2ccc-42a8-a2ca-25b12222dde5",
   "metadata": {},
   "source": [
    "## Healthchecks"
   ]
  },
  {
   "cell_type": "code",
   "execution_count": 3,
   "id": "b65e27ad-4a08-4cbf-9265-42058c1cf8ab",
   "metadata": {},
   "outputs": [],
   "source": [
    "healthcheck_endpoint = \"health\"\n",
    "healthcheck_response = requests.get(HOST_ADDRESS+healthcheck_endpoint)"
   ]
  },
  {
   "cell_type": "code",
   "execution_count": 4,
   "id": "9e2d6ae1-846c-477a-bb5b-984f27d1d8be",
   "metadata": {},
   "outputs": [
    {
     "data": {
      "text/plain": [
       "200"
      ]
     },
     "execution_count": 4,
     "metadata": {},
     "output_type": "execute_result"
    }
   ],
   "source": [
    "healthcheck_response.status_code"
   ]
  },
  {
   "cell_type": "code",
   "execution_count": 5,
   "id": "aee50f50-994d-4ae1-9867-0080e54409de",
   "metadata": {},
   "outputs": [
    {
     "data": {
      "text/plain": [
       "{'status': 'healthy'}"
      ]
     },
     "execution_count": 5,
     "metadata": {},
     "output_type": "execute_result"
    }
   ],
   "source": [
    "healthcheck_response.json()"
   ]
  },
  {
   "cell_type": "markdown",
   "id": "a5a63185-7a30-4c20-870b-064681a6d908",
   "metadata": {},
   "source": [
    "## Generating outputs - Non-Streaming"
   ]
  },
  {
   "cell_type": "code",
   "execution_count": 6,
   "id": "0216acd7-6b07-4602-b04f-c4cc8fe2b95f",
   "metadata": {},
   "outputs": [],
   "source": [
    "generation_endpoint = \"generate\""
   ]
  },
  {
   "cell_type": "code",
   "execution_count": 7,
   "id": "592cc880-66a9-4194-b865-5f8abb532957",
   "metadata": {},
   "outputs": [],
   "source": [
    "def generate(prompt, max_new_tokens=256):\n",
    "    address = HOST_ADDRESS + generation_endpoint\n",
    "    query = {\n",
    "        \"prompt\": prompt,\n",
    "        \"max_tokens\": max_new_tokens\n",
    "    }\n",
    "    response = requests.post(address, json=query)\n",
    "    return response.text"
   ]
  },
  {
   "cell_type": "code",
   "execution_count": 8,
   "id": "bc837255-c180-4d4a-93cc-c23fa111d2d0",
   "metadata": {},
   "outputs": [
    {
     "data": {
      "text/plain": [
       "'\"My name is Anna, but you can call me Annie.\"'"
      ]
     },
     "execution_count": 8,
     "metadata": {},
     "output_type": "execute_result"
    }
   ],
   "source": [
    "prompt = \"\"\"\n",
    "<|system|>\n",
    "Respond to the user's questions below</s>\n",
    "<|user|>\n",
    "What is your name?</s>\n",
    "<|assistant|>\n",
    "\"\"\"\n",
    "\n",
    "generate(prompt)"
   ]
  },
  {
   "cell_type": "markdown",
   "id": "2beb6cbc-3dda-438f-93e8-ca2e131b863e",
   "metadata": {},
   "source": [
    "## Generating Outputs - Streaming"
   ]
  },
  {
   "cell_type": "code",
   "execution_count": 9,
   "id": "01caf30b-8492-46ed-be99-693f4faac2d0",
   "metadata": {},
   "outputs": [],
   "source": [
    "stream_endpoint = \"generate_stream\""
   ]
  },
  {
   "cell_type": "code",
   "execution_count": 10,
   "id": "210b8633-6194-403d-a397-20fc845eaec7",
   "metadata": {},
   "outputs": [],
   "source": [
    "def generate_stream(prompt, max_new_tokens=256):\n",
    "    address = HOST_ADDRESS + stream_endpoint\n",
    "    query = {\n",
    "        \"prompt\": prompt,\n",
    "        \"max_tokens\": max_new_tokens\n",
    "    }\n",
    "    with requests.post(address, json=query, stream=True) as response:\n",
    "        for chunk in response.iter_content(1024):\n",
    "            yield chunk.decode('utf8')"
   ]
  },
  {
   "cell_type": "code",
   "execution_count": 11,
   "id": "9e78768c-6134-4b80-9e3a-dfeb55a6bb0f",
   "metadata": {},
   "outputs": [
    {
     "name": "stdout",
     "output_type": "stream",
     "text": [
      "My name is Anna, but you can call me Annie.\n"
     ]
    }
   ],
   "source": [
    "prompt = \"\"\"\n",
    "<|system|>\n",
    "Respond to the user's questions below</s>\n",
    "<|user|>\n",
    "What is your name?</s>\n",
    "<|assistant|>\n",
    "\"\"\"\n",
    "\n",
    "for resp in generate_stream(prompt):\n",
    "    print(resp, end=\"\", flush=True)\n",
    "print()"
   ]
  },
  {
   "cell_type": "code",
   "execution_count": null,
   "id": "b0c2822b-b532-4af6-8966-8f7f45b0e331",
   "metadata": {},
   "outputs": [],
   "source": []
  }
 ],
 "metadata": {
  "kernelspec": {
   "display_name": "Python 3 (ipykernel)",
   "language": "python",
   "name": "python3"
  },
  "language_info": {
   "codemirror_mode": {
    "name": "ipython",
    "version": 3
   },
   "file_extension": ".py",
   "mimetype": "text/x-python",
   "name": "python",
   "nbconvert_exporter": "python",
   "pygments_lexer": "ipython3",
   "version": "3.9.18"
  }
 },
 "nbformat": 4,
 "nbformat_minor": 5
}
